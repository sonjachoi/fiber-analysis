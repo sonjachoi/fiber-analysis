{
 "cells": [
  {
   "cell_type": "code",
   "execution_count": 1,
   "metadata": {},
   "outputs": [],
   "source": [
    "import os\n",
    "import pandas as pd\n",
    "import matplotlib.pyplot as plt"
   ]
  },
  {
   "cell_type": "code",
   "execution_count": null,
   "metadata": {},
   "outputs": [],
   "source": [
    "# Define the paths for data and results directories relative to the current working directory (root)\n",
    "data_path = os.path.join(os.getcwd(), 'data', 'throughput.txt')  # ./data/throughput.txt\n",
    "results_dir = os.path.join(os.getcwd(), 'results')  # ./results/\n",
    "\n",
    "# Load the throughput data\n",
    "data = pd.read_csv(data_path, delim_whitespace=True, header=None, names=[\"Wavelength\", \"Throughput\"])\n",
    "\n",
    "# Plot throughput vs wavelength\n",
    "plt.figure(figsize=(10, 6))\n",
    "plt.plot(data[\"Wavelength\"], data[\"Throughput\"], label=\"Throughput\", color=\"b\")\n",
    "plt.title(\"Throughput vs Wavelength\")\n",
    "plt.xlabel(\"Wavelength (nm)\")\n",
    "plt.ylabel(\"Throughput\")\n",
    "plt.grid(True)\n",
    "plt.legend()\n",
    "\n",
    "# Ensure the 'results' directory exists\n",
    "if not os.path.exists(results_dir):\n",
    "    os.makedirs(results_dir)\n",
    "\n",
    "# Save the plot to the results directory\n",
    "output_plot = os.path.join(results_dir, \"throughput_plot.png\")\n",
    "plt.savefig(output_plot)\n",
    "\n",
    "print(f\"Plot saved to {output_plot}\")\n"
   ]
  }
 ],
 "metadata": {
  "kernelspec": {
   "display_name": "Python3 (gw)",
   "language": "python",
   "name": "gw"
  },
  "language_info": {
   "codemirror_mode": {
    "name": "ipython",
    "version": 3
   },
   "file_extension": ".py",
   "mimetype": "text/x-python",
   "name": "python",
   "nbconvert_exporter": "python",
   "pygments_lexer": "ipython3",
   "version": "3.8.20"
  }
 },
 "nbformat": 4,
 "nbformat_minor": 2
}
