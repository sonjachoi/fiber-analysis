{
 "cells": [
  {
   "cell_type": "markdown",
   "metadata": {},
   "source": [
    "# This notebook will run the FRD setup\n",
    "* To perform an FRD test (before running this script), you should:\n",
    "1. Check serial connection to 1. CMOS camera 2. Linear stage 3. Iris\n",
    "2. Make sure to put the cover on the camera\n",
    "3. Clean both fiber input and output surface\n",
    "4. On the fiber input end, check with the SpinView software, to make sure the fiber is 1. in focus and 2. clean, also make sure the input beam is injected into the core of the fiber\n",
    "5. Make sure you change the fiber serial number and the date (if needed) in the '3. Make Directory' shell\n",
    "6. Run this script"
   ]
  },
  {
   "cell_type": "code",
   "execution_count": null,
   "metadata": {},
   "outputs": [],
   "source": [
    "# Imports\n",
    "\n",
    "# 1. Camera\n",
    "import os\n",
    "import sys\n",
    "import zwoasi as asi\n",
    "\n",
    "from IPython.display import clear_output, Image, display\n",
    "import ipywidgets\n",
    "import cv2\n",
    "import time\n",
    "import numpy as np\n",
    "import warnings\n",
    "from astropy.modeling.models import Gaussian2D, AiryDisk2D\n",
    "from astropy.modeling import fitting\n",
    "from astropy.nddata.utils import Cutout2D\n",
    "from astropy.io import fits\n",
    "from astropy.time import Time\n",
    "from astropy.visualization import simple_norm\n",
    "from astropy.nddata import block_reduce\n",
    "\n",
    "from photutils.aperture import aperture_photometry, CircularAperture, CircularAnnulus, ApertureStats\n",
    "from photutils.centroids import centroid_quadratic, centroid_com, centroid_1dg, centroid_2dg\n",
    "from photutils.profiles import RadialProfile\n",
    "from PIL import Image, ImageFont, ImageDraw\n",
    "import matplotlib.pyplot as plt\n",
    "import matplotlib.cm as cm\n",
    "\n",
    "from pathlib import Path\n",
    "import cv2\n",
    "import ipywidgets\n",
    "\n",
    "\n",
    "# 2. Stage\n",
    "from libNewport import smc100\n",
    "\n",
    "# 3. IRIS\n",
    "from libStanda import standa\n"
   ]
  },
  {
   "cell_type": "markdown",
   "metadata": {},
   "source": [
    "# 1. Serial port connection"
   ]
  },
  {
   "cell_type": "code",
   "execution_count": 4,
   "metadata": {},
   "outputs": [
    {
     "name": "stdout",
     "output_type": "stream",
     "text": [
      "Trying to autoconnect to serial on COM4\n",
      "Found 1 real device(s):\n",
      "  {'uri': 'xi-com:\\\\\\\\.\\\\COM4', 'device_serial': 36292, 'Manufacturer': 'XIMC', 'ManufacturerId': 'SM', 'ProductDescription': 'XISM-USB', 'Major': 2, 'Minor': 3, 'Release': 6, 'ControllerName': '8MID27-1.5-AR', 'CtrlFlags': 0, 'PositionerName': ''}\n",
      "Success. Opened controllers on port COM4\n",
      "Trying to autoconnect to serial on COM6\n",
      "Success. Opened controllers on port COM6\n",
      "Stage 1IDCMA-25CCCL_PN:091207_UD:090319 on channel 1 has state READY and position 1TP11.99997\n",
      "Controller Status: READY\n",
      "\n",
      "Controller ready now ---\n"
     ]
    }
   ],
   "source": [
    "# 3. IRIS\n",
    "iris = standa('COM4')\n",
    "\n",
    "# 2. Stage\n",
    "s=smc100('COM6')\n",
    "\n",
    "# Check stage status, if status=ready, no need do homing\n",
    "if s.state[1]['CURSTATE'] != 'READY':\n",
    "    print(f\"Controller Status: {s.state[1]['CURSTATE']}- Controller not ready. Reset & Home now.\")\n",
    "    s.resetController()\n",
    "    s.homeController()\n",
    "    print(\"\")\n",
    "    print(\"Controller ready now ---\")\n",
    "    #print(\"Let's GOOOOOOO\")\n",
    "    #print(\"=============================================\")\n",
    "else:\n",
    "    print(f\"Controller Status: {s.state[1]['CURSTATE']}\")\n",
    "    print(\"\")\n",
    "    print(\"Controller ready now ---\")\n",
    "    #print(\"Let's GOOOOOOO\")\n",
    "    #print(\"=============================================\")\n"
   ]
  },
  {
   "cell_type": "markdown",
   "metadata": {},
   "source": [
    "# 2. Camera set up\n",
    "- If connection fails, run the shell for one more time. It usually takes 2 times."
   ]
  },
  {
   "cell_type": "code",
   "execution_count": 5,
   "metadata": {},
   "outputs": [
    {
     "name": "stdout",
     "output_type": "stream",
     "text": [
      "Camera found: ['ZWO ASI1600MM Pro']\n"
     ]
    }
   ],
   "source": [
    "# 1. Check camera .dll file \n",
    "ASI_filename = 'lib\\\\ASICamera2.dll'\n",
    "\n",
    "if ASI_filename:\n",
    "    asi.init(ASI_filename)\n",
    "else:\n",
    "    print('The filename of the ASI SDK library is required')\n",
    "    sys.exit(1)\n",
    "    \n",
    "# 2. Check ZWO ASI1600MM Pro camera connection\n",
    "num_cameras = asi.get_num_cameras()\n",
    "if num_cameras == 0:\n",
    "    print('No cameras found')\n",
    "    sys.exit(0)\n",
    "else:\n",
    "    cameras_found = asi.list_cameras()  # Models names of the connected cameras\n",
    "    print(\"Camera found:\", cameras_found)"
   ]
  },
  {
   "cell_type": "code",
   "execution_count": 6,
   "metadata": {},
   "outputs": [],
   "source": [
    "# 3. CONNECT to CAMERA\n",
    "# open camera handle\n",
    "#camera_id = 0  # use first camera from list\n",
    "#camera_id = index[0]  # use first camera from list\n",
    "camera_id = 0  # \n",
    "camera = asi.Camera(camera_id)\n",
    "camera_info = camera.get_camera_property()"
   ]
  },
  {
   "cell_type": "code",
   "execution_count": 7,
   "metadata": {},
   "outputs": [],
   "source": [
    "# 4. Camera info\n",
    "if (False):\n",
    "# print(camera_info)\n",
    "    for key,value in camera_info.items():\n",
    "        print(f\"{key} :  {value}\" )\n",
    "\n",
    "pixelsize = camera_info['PixelSize']\n",
    "maxheight =  camera_info['MaxHeight']\n",
    "maxwidth =  camera_info['MaxWidth']\n",
    "\n",
    "if (False):\n",
    "# Get all of the camera controls\n",
    "    print('')\n",
    "    print('Camera controls:')\n",
    "    controls = camera.get_controls()\n",
    "    for cn in sorted(controls.keys()):\n",
    "        print('    %s:' % cn)\n",
    "        for k in sorted(controls[cn].keys()):\n",
    "            print('        %s: %s' % (k, repr(controls[cn][k])))"
   ]
  },
  {
   "cell_type": "code",
   "execution_count": 8,
   "metadata": {},
   "outputs": [
    {
     "name": "stdout",
     "output_type": "stream",
     "text": [
      "Exposure time= 0.03\n",
      "Temperature= 28.0\n"
     ]
    }
   ],
   "source": [
    "# 5. Get all of the current camera control values\n",
    "#print('')\n",
    "#print('Camera control values: [value, auto(bool)]')\n",
    "set_exptime = 0.03 # seconds\n",
    "set_exptime = int(set_exptime*10**6) # convert to microseconds\n",
    "camera.set_control_value(asi.ASI_EXPOSURE, set_exptime)  # microseconds\n",
    "\n",
    "#camera.set_control_value(asi.ASI_AUTO_MAX_BRIGHTNESS, 30000)\n",
    "\n",
    "# 6. confirm exptime was set\n",
    "get_exptime = camera.get_control_value(asi.ASI_EXPOSURE)\n",
    "current_temp = camera.get_control_value(asi.ASI_TEMPERATURE)  # returns x10 for precision \n",
    "current_temp[0] = current_temp[0]/10\n",
    "exptime = get_exptime[0]/10**6\n",
    "temperature = current_temp[0]\n",
    "print('Exposure time=', exptime)\n",
    "print('Temperature=',temperature)  \n",
    "\n",
    "#fan_on = camera.get_control_value(asi.ASI_FAN_ON)\n",
    "#cooler_on = camera.get_control_value(asi.ASI_COOLER_ON)\n",
    "#cooler_power = camera.get_control_value(asi.ASI_COOLER_POWER_PERC)\n",
    "#target_temp = camera.get_control_value(asi.ASI_TARGET_TEMP)\n",
    "\n",
    "#print(fan_on, cooler_on, cooler_power, target_temp, current_temp)\n",
    "#print(current_temp)\n",
    "\n",
    "if (False):\n",
    "    # Use minimum USB bandwidth permitted\n",
    "    camera.set_control_value(asi.ASI_BANDWIDTHOVERLOAD, camera.get_controls()['BandWidth']['MinValue'])\n",
    "    \n",
    "    # Set some sensible defaults. They will need adjusting depending upon\n",
    "    # the sensitivity, lens and lighting conditions used.\n",
    "    camera.disable_dark_subtract()\n",
    "    \n",
    "    #camera.set_control_value(asi.ASI_GAIN, 150)\n",
    "    #camera.set_control_value(asi.ASI_EXPOSURE, 1300000) # microseconds\n"
   ]
  },
  {
   "cell_type": "markdown",
   "metadata": {},
   "source": [
    "# 3. Make Directory"
   ]
  },
  {
   "cell_type": "code",
   "execution_count": 40,
   "metadata": {},
   "outputs": [
    {
     "name": "stdout",
     "output_type": "stream",
     "text": [
      "Today's date= 2024-10-04\n",
      "dirpath= C:/Users/CFBLAB1/Desktop/LFAST-FRD/2024-10-04-lfast-18um-0032\n"
     ]
    }
   ],
   "source": [
    "from datetime import datetime\n",
    "\n",
    "# Get today's date\n",
    "today = datetime.today()\n",
    "# Format it as a string\n",
    "formatted_date = today.strftime('%Y-%m-%d')\n",
    "print(\"Today's date=\",formatted_date)\n",
    "\n",
    "# Define the directory path dynamically\n",
    "dirpath = Path(f'results/{formatted_date}-lfast-18um-0032')\n",
    "print(\"Output directory path:\", dirpath)\n",
    "\n",
    "filename = f\"image_{formatted_date}_target001.fits\"\n",
    "fpath = dirpath / filename\n",
    "\n",
    "\n",
    "mkdir = True\n",
    "if mkdir:\n",
    "    dirpath_mkdir=Path(dirpath)\n",
    "    dirpath_mkdir.mkdir(parents=True, exist_ok=True)"
   ]
  },
  {
   "cell_type": "markdown",
   "metadata": {},
   "source": [
    "# 4. Set f ratio of the input beam"
   ]
  },
  {
   "cell_type": "code",
   "execution_count": 54,
   "metadata": {},
   "outputs": [
    {
     "name": "stdout",
     "output_type": "stream",
     "text": [
      "[2000. 2000. 2000. 2000. 2000. 2000. 2000. 2000. 2000. 2000. 2000. 2000.]\n",
      "[11.76470588 10.          8.          6.66666667  5.71428571  5.\n",
      "  4.44444444  4.          3.63636364  3.33333333  2.85714286  2.5       ]\n"
     ]
    }
   ],
   "source": [
    "# define iris apertures [mm] for input f/ratio's  determined by focal length of objective (40mm) / aperture \n",
    "# iris apertures range from 1.5-27mm, verify that the collimated beam can actually illuminate the desired range.  \n",
    "\n",
    "focal_length = 20   # Nikon 10x plan Fluor microscope objective NA = 0.3  minimum useful fratio = 1/2NA = f/1.666.  \n",
    "fratios = np.array([1.7, 2.0, 2.5, 3.0, 3.5, 4.0, 4.5, 5.0, 5.5, 6.0, 7.0, 8.0])\n",
    "\n",
    "apertures = focal_length / fratios\n",
    "\n",
    "# or define fixed apertures\n",
    "#apertures = [23.53, 20.0, 16, 13.33, 11.43, 10.0, 8.89, 8.0, 6.67, 5.71, 5.0, 4.44, 4.0]\n",
    "\n",
    "# define exposure times in milliseconds to expose for each aperture setting. \n",
    "# 2000ms for 20mm aperture, scale by area.  Note, not quite true since the area illiminated will change.\n",
    "# If there was no FRD then the area will increase as the sqare and the result would cancel... ie same exposure time. \n",
    "# since there is FRD larger apertures will be close in exptime and smaller apertures will need to be exposed longer to get same S/N.\n",
    "#texp = 500 \n",
    "texp = 2000\n",
    "\n",
    "# update stage position and exptime based on input f ratio?\n",
    "dynamic = False\n",
    "\n",
    "#exptimes = texp * (20)**2 / (apertures)**2\n",
    "if dynamic:\n",
    "    #exptimes = np.floor(texp*( (1+np.exp(-apertures/10)/np.exp(-1))/2 )/100)*100\n",
    "    exptimes = texp*(1+0*apertures)\n",
    "else:\n",
    "    exptimes = texp*(1+0*apertures)\n",
    "print(exptimes)\n",
    "print(apertures) "
   ]
  },
  {
   "cell_type": "markdown",
   "metadata": {},
   "source": [
    "# 5. Start loop"
   ]
  },
  {
   "cell_type": "code",
   "execution_count": 55,
   "metadata": {
    "scrolled": true
   },
   "outputs": [
    {
     "name": "stdout",
     "output_type": "stream",
     "text": [
      "0 11.764705882352942 1.7\n",
      "[ 0  4  8 12]\n",
      "moving...\n",
      "arrived at:11.765\n",
      "IRIS Aperture:   0 11.764705882352942\n",
      "New Exposure time= 2.0\n",
      "Go to position at 0mm\n",
      "ERROR: 1TP3.93720\n",
      "Current position: 1TS000028 ERROR\n",
      "ERROR: 1TP3.37607\n",
      "Current position (final): 000028mm\n",
      "ERROR: 1TP2.81449\n",
      "Current position (final): 000028mm\n",
      "Now at 0mm.\n",
      "\n",
      "Test =  Aper-00-d00\n",
      "Now capture image...\n"
     ]
    },
    {
     "ename": "ZWO_CaptureError",
     "evalue": "Could not capture image",
     "output_type": "error",
     "traceback": [
      "---------------------------------------------------------------------------",
      "ZWO_CaptureError                          Traceback (most recent call last)",
      "Cell In[55], line 82\n     79 camera.set_image_type(asi.ASI_IMG_RAW16) # it means mono16\n     81 #if filename == None:\n---> 82 img = camera.capture()\n     83 time.sleep(1) #wait time after taking pictures\n     85 # 2.3 Display the image\n     86 #print(img)\n",
      "File ~\\anaconda3\\envs\\py3frd\\Lib\\site-packages\\zwoasi\\__init__.py:609, in Camera.capture(self, initial_sleep, poll, buffer_, filename)\n    607 status = self.get_exposure_status()\n    608 if status != ASI_EXP_SUCCESS:\n--> 609     raise ZWO_CaptureError('Could not capture image', status)\n    611 data = self.get_data_after_exposure(buffer_)\n    612 whbi = self.get_roi_format()\n",
      "ZWO_CaptureError: Could not capture image"
     ]
    }
   ],
   "source": [
    "# start loop:\n",
    "#1. set filter\n",
    "#2. move stage\n",
    "#3. take pic & save\n",
    "\n",
    "\n",
    "for i,aperture in enumerate(apertures): # cycle through apertures\n",
    "\n",
    "    print(i, aperture, fratios[i])\n",
    "    # minimum spot position is at ~85mm and the BFD of the ZWOASI1600 is 6.5mm,\n",
    "    # so the closest the stage can be is 85-6.5=78.5mm before the fiber touches the window\n",
    "\n",
    "    #adjust stage distance for each input f ratio?\n",
    "    if dynamic :\n",
    "        if fratios[i] >= 0: positions = np.arange(2,16,3) #0mm is closet to fiber, 25mm is farthest\n",
    "        if fratios[i] >= 4: positions = np.arange(2,23,5)\n",
    "        if fratios[i] >= 8: positions = np.arange(2,25,4)\n",
    "        if fratios[i] >= 12: positions = np.arange(2,25,4)\n",
    "    else:\n",
    "        positions = np.arange(0,13,4)\n",
    "        \n",
    "    \n",
    "    #for pos in range(65, 44, -5): # Iterate over absolute positions 65 to 45\n",
    "    #for pos in range(76, 63, -3): # Iterate over absolute positions 76 to 63  \n",
    "    print(positions)\n",
    "    #continue\n",
    "    \n",
    "    iris.setPositionAbs(aperture) # change filter  \n",
    "    print(\"IRIS Aperture:  \", i, aperture)\n",
    "    \n",
    "    for j,pos in enumerate(positions): # Iterate over absolute positions\n",
    "\n",
    "        # Reset exp time\n",
    "        if dynamic :\n",
    "            set_exptime = exptimes[i]/1000 # seconds\n",
    "        else:\n",
    "            set_exptime = exptimes[i]/1000 # seconds\n",
    "            \n",
    "        set_exptime = int(set_exptime*10**6) # convert to microseconds\n",
    "        camera.set_control_value(asi.ASI_EXPOSURE, set_exptime)  # microseconds\n",
    "    \n",
    "        # Confirm new exptime was set\n",
    "        get_exptime = camera.get_control_value(asi.ASI_EXPOSURE)\n",
    "        exptime = get_exptime[0]/10**6\n",
    "        print('New Exposure time=', exptime)\n",
    "    \n",
    "        time.sleep(1)\n",
    "    \n",
    "        \n",
    "        # 1. Move stage ====================================================\n",
    "        print(f\"Go to position at {pos}mm\")\n",
    "        s.setPositionAbs(pos)\n",
    "        \n",
    "        # Query current position and wait for 5 seconds\n",
    "        current_pos = s.getPosition()\n",
    "        print(f\"Current position (final): {current_pos[3:12]}mm\")\n",
    "        time.sleep(1) # waiting time for priniting position query >_<\n",
    "        current_pos = s.getPosition()\n",
    "        print(f\"Current position (final): {current_pos[3:12]}mm\")        \n",
    "        print(f\"Now at {pos}mm.\")\n",
    "        \n",
    "        \n",
    "        # 2. Take pictures =================================================\n",
    "        \n",
    "        # 2.1 Set file name\n",
    "        base_filename = \"Aper-{filter:02d}-d{d:02d}\"\n",
    "        this_filename= base_filename.format(filter=i, d=pos)\n",
    "        print()\n",
    "        print(\"Test = \",this_filename)\n",
    "        \n",
    "        # 2.2 Take mono16 image\n",
    "        ####### add some waiting time for camera \n",
    "        print(\"Now capture image...\")\n",
    "        time.sleep(1) # wait time before take pictures\n",
    "        camera.set_image_type(asi.ASI_IMG_RAW16) # it means mono16\n",
    "        \n",
    "        #if filename == None:\n",
    "        img = camera.capture()\n",
    "        time.sleep(1) #wait time after taking pictures\n",
    "        \n",
    "        # 2.3 Display the image\n",
    "        #print(img)\n",
    "        plt.figure(figsize=(4,3))\n",
    "        plt.imshow(img, cmap='gray')\n",
    "        plt.colorbar()\n",
    "        plt.show()\n",
    "\n",
    "        # 2.4 save image\n",
    "        print(\"Saving image...\")\n",
    "        t=Time.now()\n",
    "        dateobs = t.isot\n",
    "        filename = this_filename +\"_\"+t.strftime('%Y%m%d_%H%M%S')\n",
    "        \n",
    "        hdu = fits.PrimaryHDU(image_data) ##\n",
    "        hdu.writeto(fpath, overwrite=True) ##\n",
    "      \n",
    "        print(\"Image saved at: \", fpath)\n",
    "\n",
    "        # create fits image for raw data\n",
    "        filename = fpath.as_posix()\n",
    "        hdu = fits.PrimaryHDU(data=img)\n",
    "        hdu.writeto(filename)\n",
    "        fits.setval(filename,'date-obs',value=t.fits)\n",
    "        fits.setval(filename,'exptime',value=exptime)\n",
    "        fits.setval(filename,'ccd-temp',value=temperature)\n",
    "        fits.setval(filename,'irisaper',value=aperture)\n",
    "        fits.setval(filename,'distance',value=pos)\n",
    "        print(\"==========================================================================================\")"
   ]
  },
  {
   "cell_type": "markdown",
   "metadata": {},
   "source": [
    "# 6. Close Serial Connection"
   ]
  },
  {
   "cell_type": "code",
   "execution_count": 56,
   "metadata": {},
   "outputs": [
    {
     "name": "stdout",
     "output_type": "stream",
     "text": [
      "Finish taking all images. YAY. Close seial connection now.\n",
      "Stage connection closed\n",
      "Iris connection closed\n"
     ]
    }
   ],
   "source": [
    "# Close the serial connection\n",
    "\n",
    "# camera\n",
    "camera.close()\n",
    "\n",
    "# Stage\n",
    "print(\"Finish taking all images. YAY. Close seial connection now.\")\n",
    "s.ser.close()\n",
    "print(\"Stage connection closed\")\n",
    "\n",
    "# iris\n",
    "iris.close()\n",
    "print(\"Iris connection closed\")"
   ]
  },
  {
   "cell_type": "code",
   "execution_count": null,
   "metadata": {},
   "outputs": [],
   "source": []
  },
  {
   "cell_type": "code",
   "execution_count": null,
   "metadata": {},
   "outputs": [],
   "source": []
  },
  {
   "cell_type": "code",
   "execution_count": null,
   "metadata": {},
   "outputs": [],
   "source": []
  }
 ],
 "metadata": {
  "kernelspec": {
   "display_name": "Python 3.10 (bilby_env)",
   "language": "python",
   "name": "bilby_env"
  },
  "language_info": {
   "codemirror_mode": {
    "name": "ipython",
    "version": 3
   },
   "file_extension": ".py",
   "mimetype": "text/x-python",
   "name": "python",
   "nbconvert_exporter": "python",
   "pygments_lexer": "ipython3",
   "version": "3.10.15"
  }
 },
 "nbformat": 4,
 "nbformat_minor": 5
}
